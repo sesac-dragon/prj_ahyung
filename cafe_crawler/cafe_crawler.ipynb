{
 "cells": [
  {
   "cell_type": "code",
   "execution_count": 1,
   "id": "c46c230f",
   "metadata": {},
   "outputs": [],
   "source": [
    "from selenium import webdriver\n",
    "from selenium.webdriver.chrome.service import Service\n",
    "from webdriver_manager.chrome import ChromeDriverManager\n",
    "from selenium.webdriver.common.keys import Keys\n",
    "from selenium.webdriver.common.by import By\n",
    "from selenium.webdriver.support.ui import WebDriverWait\n",
    "from selenium.webdriver.support import expected_conditions as EC\n",
    "import time\n",
    "import json"
   ]
  },
  {
   "cell_type": "code",
   "execution_count": null,
   "id": "7ccc0d3b",
   "metadata": {},
   "outputs": [],
   "source": [
    "# 1. 네이버 블로그에서 ‘뜨개카페’ 검색\n",
    "# 2. 블로그 글에서 지도 위치 찍은 정보 가져옴 (위치 좌표)\n",
    "# 3. 해당 정보를 가지고 DB화\n",
    "# 4. DB위치 정보를 가지고 대시보드 지도에 카페 위치를 보여줌"
   ]
  },
  {
   "cell_type": "code",
   "execution_count": 2,
   "metadata": {},
   "outputs": [],
   "source": [
    "driver = webdriver.Chrome(service=Service(ChromeDriverManager().install()))\n",
    "driver.get(\"https://section.blog.naver.com/\")"
   ]
  },
  {
   "cell_type": "markdown",
   "id": "805c285d",
   "metadata": {},
   "source": [
    "### 1. 네이버 블로그에서 '뜨개카페' 검색"
   ]
  },
  {
   "cell_type": "code",
   "execution_count": 3,
   "metadata": {},
   "outputs": [],
   "source": [
    "driver.find_element(\n",
    "    By.CSS_SELECTOR,\n",
    "    \"#header > div.header_common > div > div.area_search > form > fieldset > div > input\",\n",
    ").send_keys(\"뜨개카페\")\n",
    "driver.find_element(\n",
    "    By.CSS_SELECTOR,\n",
    "    \"#header > div.header_common > div > div.area_search > form > fieldset > div > input\",\n",
    ").send_keys(Keys.ENTER)"
   ]
  },
  {
   "cell_type": "markdown",
   "id": "0142cb4b",
   "metadata": {},
   "source": [
    "### 2. 블로그 글에서 지도 위치 찍은 정보 가져옴 (위치 좌표)"
   ]
  },
  {
   "cell_type": "code",
   "execution_count": null,
   "id": "f0d1ad21",
   "metadata": {},
   "outputs": [],
   "source": [
    "# 1. 첫번째 블로그 주소를 가져옴\n",
    "#  - id, no를 가져와서 url 연결 \n",
    "# 2. if 지도 위치 selector가 있으면 DB에 저장\n",
    "# 3. else 없으면 / 뒤로가기\n",
    "# 4. 두번째 블로그 주소를 가져옴 \n",
    "#  반복"
   ]
  },
  {
   "cell_type": "code",
   "execution_count": null,
   "id": "de87978f",
   "metadata": {},
   "outputs": [],
   "source": [
    "# 블로그 글 주소를 가져와서 \n",
    "# split / 해서 뒤에 두개를 각각 id, no로 지정 \n",
    "# 지정해서 변수에 넣은 뒤 \n",
    "# driver.get으로 url연결 후 블로그 글 연결 \n",
    "# open된 블로그 글에서 지도 정보 크롤링 \n",
    "# 크롤링 된 지도 정보 db에 저장 "
   ]
  },
  {
   "cell_type": "markdown",
   "id": "9f702047",
   "metadata": {},
   "source": [
    "- 주소 정보 하나 가져와서 url 연결후 지도 정보를 저장"
   ]
  },
  {
   "cell_type": "code",
   "execution_count": null,
   "id": "e6752ecb",
   "metadata": {},
   "outputs": [],
   "source": [
    "#content > section > div.area_list_search > div:nth-child(1) > div > div.info_post > div.desc > a.desc_inner"
   ]
  },
  {
   "cell_type": "code",
   "execution_count": 4,
   "id": "7565daed",
   "metadata": {},
   "outputs": [],
   "source": [
    "# 첫번째 블로그 글 주소 정보를 가져옴 \n",
    "elem = driver.find_element(\n",
    "    By.CSS_SELECTOR, \"#content > section > div.area_list_search > div:nth-child(1) > div > div.info_post > div.desc > a.desc_inner\"\n",
    ")"
   ]
  },
  {
   "cell_type": "code",
   "execution_count": 5,
   "id": "5a1bc09d",
   "metadata": {},
   "outputs": [
    {
     "data": {
      "text/plain": [
       "['https:', '', 'blog.naver.com', 'ksysysy', '223938309758']"
      ]
     },
     "execution_count": 5,
     "metadata": {},
     "output_type": "execute_result"
    }
   ],
   "source": [
    "elem.get_attribute('href').split('/') # 주소를 / 기준으로 리스트"
   ]
  },
  {
   "cell_type": "code",
   "execution_count": 28,
   "id": "665dabe9",
   "metadata": {},
   "outputs": [
    {
     "data": {
      "text/plain": [
       "'ksysysy'"
      ]
     },
     "execution_count": 28,
     "metadata": {},
     "output_type": "execute_result"
    }
   ],
   "source": [
    "elem.get_attribute('href').split('/')[-2]"
   ]
  },
  {
   "cell_type": "code",
   "execution_count": 6,
   "id": "522ae5b5",
   "metadata": {},
   "outputs": [],
   "source": [
    "# id, no 변수 \n",
    "blogID = elem.get_attribute('href').split('/')[-2]\n",
    "logNo = elem.get_attribute('href').split('/')[-1]"
   ]
  },
  {
   "cell_type": "code",
   "execution_count": 7,
   "id": "bf45ff38",
   "metadata": {},
   "outputs": [],
   "source": [
    "# url 연결\n",
    "driver.get(f\"https://blog.naver.com/PostView.naver?blogId={blogID}&logNo={logNo}\")"
   ]
  },
  {
   "cell_type": "code",
   "execution_count": null,
   "id": "70968169",
   "metadata": {},
   "outputs": [],
   "source": [
    "# div.se-module.se-module-map-text > a\n",
    "# div.se-module.se-module-map-text > a"
   ]
  },
  {
   "cell_type": "code",
   "execution_count": null,
   "id": "a4d913cb",
   "metadata": {},
   "outputs": [],
   "source": []
  },
  {
   "cell_type": "code",
   "execution_count": null,
   "id": "5d4324a4",
   "metadata": {},
   "outputs": [],
   "source": [
    "# 지도정보 변수\n",
    "map = driver.find_element(\n",
    "    By.CSS_SELECTOR, \"#SE-A2CD9D4B-A88C-4D4E-B694-8DF61219574F > div > div > div.se-module.se-module-map-text > a\"\n",
    ")"
   ]
  },
  {
   "cell_type": "code",
   "execution_count": null,
   "id": "0ac3f3a6",
   "metadata": {},
   "outputs": [
    {
     "data": {
      "text/plain": [
       "'{\"eventTarget\" : \"placeDesc\", \"placeId\" : \"1051270692\", \"searchEngine\" : \"naver\", \"searchType\" : \"s\", \"name\" : \"바늘이야기 연희점\", \"address\" : \"서울특별시 서대문구 연희로11가길 15\", \"latitude\" : \"37.5674563\", \"longitude\" : \"126.9291304\", \"tel\" : \"0507-1379-9771\", \"bookingUrl\" : null }'"
      ]
     },
     "execution_count": 39,
     "metadata": {},
     "output_type": "execute_result"
    }
   ],
   "source": [
    "map.get_attribute('data-linkdata') # 위도 경도 정보 크롤링 "
   ]
  },
  {
   "cell_type": "code",
   "execution_count": null,
   "id": "14426d5e",
   "metadata": {},
   "outputs": [],
   "source": []
  },
  {
   "cell_type": "code",
   "execution_count": 67,
   "id": "a7605593",
   "metadata": {},
   "outputs": [],
   "source": [
    "blog_links = []\n",
    "\n",
    "# 5개만 반복 \n",
    "blog_cards = driver.find_elements(\n",
    "    By.CSS_SELECTOR, \"#content > section > div.area_list_search > div\"\n",
    ")[:7]\n",
    "\n",
    "# 블로그 주소, id, no 추출\n",
    "for card in blog_cards:\n",
    "    try:\n",
    "        elem = card.find_element(By.CSS_SELECTOR, \"div > div.info_post > div.desc > a.desc_inner\")\n",
    "        blog_links.append(elem.get_attribute(\"href\"))\n",
    "    except:\n",
    "        continue\n"
   ]
  },
  {
   "cell_type": "code",
   "execution_count": null,
   "id": "ae2d788b",
   "metadata": {},
   "outputs": [],
   "source": []
  },
  {
   "cell_type": "code",
   "execution_count": 70,
   "id": "749eeb65",
   "metadata": {},
   "outputs": [
    {
     "name": "stdout",
     "output_type": "stream",
     "text": [
      "중복: 바늘이야기 연희점 → 건너뜀\n",
      "지도정보 없음\n",
      "중복: 메리노 → 건너뜀\n"
     ]
    }
   ],
   "source": [
    "cafe = []\n",
    "\n",
    "for blog_url in blog_links:\n",
    "    try:\n",
    "        blogID = blog_url.split(\"/\")[-2]\n",
    "        logNo = blog_url.split(\"/\")[-1]\n",
    "        # 블로그 접속\n",
    "        driver.get(f\"https://blog.naver.com/PostView.naver?blogId={blogID}&logNo={logNo}\")\n",
    "        time.sleep(2)\n",
    "\n",
    "        try:\n",
    "            # 지도 정보가 있는지 확인\n",
    "            map_elem = driver.find_element(\n",
    "                By.CSS_SELECTOR,\n",
    "                \"div.se-module.se-module-map-text > a\"\n",
    "            )\n",
    "            map_data_raw = map_elem.get_attribute(\"data-linkdata\")\n",
    "            map_data = json.loads(map_data_raw)\n",
    "\n",
    "            # 중복 제거 \n",
    "            name_list = [c['카페 이름'] for c in cafe]\n",
    "            if map_data[\"name\"] in name_list:\n",
    "                print(f\"중복: {map_data['name']} → 건너뜀\")\n",
    "                continue\n",
    "\n",
    "            cafe.append({\n",
    "                \n",
    "                \"카페 이름\": map_data[\"name\"],\n",
    "                \"카페 주소\": map_data[\"address\"],\n",
    "                \"위도\": map_data[\"latitude\"],\n",
    "                \"경도\": map_data[\"longitude\"],\n",
    "            })\n",
    "            \n",
    "        except:\n",
    "            print(\"지도정보 없음\")\n",
    "\n",
    "    except Exception as e:\n",
    "        print(\"오류 발생:\", e)\n",
    "        continue\n"
   ]
  },
  {
   "cell_type": "code",
   "execution_count": 71,
   "id": "1d61b9d1",
   "metadata": {},
   "outputs": [
    {
     "data": {
      "text/plain": [
       "[{'카페 이름': '바늘이야기 연희점',\n",
       "  '카페 주소': '서울특별시 서대문구 연희로11가길 15',\n",
       "  '위도': '37.5674563',\n",
       "  '경도': '126.9291304'},\n",
       " {'카페 이름': '메리노',\n",
       "  '카페 주소': '서울특별시 성동구 서울숲길 24 1층',\n",
       "  '위도': '37.5478772',\n",
       "  '경도': '127.0400156'},\n",
       " {'카페 이름': '누뗀',\n",
       "  '카페 주소': '서울특별시 서초구 청계산로 119 지하1층~2층',\n",
       "  '위도': '37.4537511',\n",
       "  '경도': '127.05127'},\n",
       " {'카페 이름': '제주포슬',\n",
       "  '카페 주소': '제주특별자치도 서귀포시 대정읍 무영로228번길 17-7 제주포슬',\n",
       "  '위도': '33.2811244',\n",
       "  '경도': '126.2235554'}]"
      ]
     },
     "execution_count": 71,
     "metadata": {},
     "output_type": "execute_result"
    }
   ],
   "source": [
    "cafe"
   ]
  },
  {
   "cell_type": "code",
   "execution_count": null,
   "id": "d53a1958",
   "metadata": {},
   "outputs": [],
   "source": [
    "# 한페이지에 7개 \n",
    "# 그러면 70개 정도만 가져오기 -> 페이지 10페이지까지 반복문 \n",
    "\n",
    "# cafe 정보를 가져오는 도중에 중복 제거해서 리스트에 추가 "
   ]
  },
  {
   "cell_type": "code",
   "execution_count": null,
   "id": "f135e988",
   "metadata": {},
   "outputs": [],
   "source": []
  },
  {
   "cell_type": "markdown",
   "id": "58677084",
   "metadata": {},
   "source": [
    "# 아마 최종 코드"
   ]
  },
  {
   "cell_type": "code",
   "execution_count": 3,
   "id": "32c5368e",
   "metadata": {},
   "outputs": [],
   "source": [
    "driver = webdriver.Chrome(service=Service(ChromeDriverManager().install()))\n",
    "driver.get(\"https://section.blog.naver.com/\")\n",
    "\n",
    "driver.find_element(\n",
    "    By.CSS_SELECTOR,\n",
    "    \"#header > div.header_common > div > div.area_search > form > fieldset > div > input\",\n",
    ").send_keys(\"뜨개카페\")\n",
    "driver.find_element(\n",
    "    By.CSS_SELECTOR,\n",
    "    \"#header > div.header_common > div > div.area_search > form > fieldset > div > input\",\n",
    ").send_keys(Keys.ENTER)"
   ]
  },
  {
   "cell_type": "code",
   "execution_count": 4,
   "id": "db405490",
   "metadata": {},
   "outputs": [
    {
     "name": "stdout",
     "output_type": "stream",
     "text": [
      "중복: 바늘이야기 연희점 → 건너뜀\n",
      "지도정보 없음\n",
      "중복: 메리노 → 건너뜀\n",
      "중복: 바늘이야기 연희점 → 건너뜀\n",
      "중복: 바늘이야기 연희점 → 건너뜀\n",
      "중복: 바늘이야기 파주직영점 → 건너뜀\n",
      "중복: 누뗀 → 건너뜀\n",
      "중복: 바늘이야기 연희점 → 건너뜀\n",
      "중복: 바늘이야기 연희점 → 건너뜀\n",
      "지도정보 없음\n",
      "지도정보 없음\n",
      "중복: 바늘이야기 연희점 → 건너뜀\n",
      "중복: 누뗀 → 건너뜀\n",
      "지도정보 없음\n",
      "중복: 누뗀 → 건너뜀\n",
      "중복: 바늘이야기 파주직영점 → 건너뜀\n",
      "지도정보 없음\n",
      "중복: 누뗀 → 건너뜀\n",
      "중복: 바늘이야기 연희점 → 건너뜀\n",
      "중복: 누뗀 → 건너뜀\n",
      "중복: 누뗀 → 건너뜀\n",
      "중복: 누뗀 → 건너뜀\n",
      "중복: 옐로우헤이트 → 건너뜀\n",
      "중복: 바늘이야기 연희점 → 건너뜀\n",
      "중복: 바늘이야기 파주직영점 → 건너뜀\n",
      "중복: 누뗀 → 건너뜀\n",
      "중복: 옐로우헤이트 → 건너뜀\n",
      "중복: 메리노 → 건너뜀\n",
      "중복: 누뗀 → 건너뜀\n",
      "지도정보 없음\n",
      "중복: 솜솜뜨개 → 건너뜀\n",
      "중복: 누뗀 → 건너뜀\n",
      "중복: 옐로우헤이트 → 건너뜀\n",
      "중복: 누뗀 → 건너뜀\n",
      "중복: 누뗀 → 건너뜀\n",
      "지도정보 없음\n",
      "중복: 누뗀 → 건너뜀\n",
      "중복: 옐로우헤이트 → 건너뜀\n",
      "중복: 누뗀 → 건너뜀\n",
      "지도정보 없음\n",
      "중복: 누뗀 → 건너뜀\n",
      "중복: 누뗀 → 건너뜀\n",
      "중복: 누뗀 → 건너뜀\n",
      "중복: 누뗀 → 건너뜀\n",
      "중복: 누뗀 → 건너뜀\n",
      "지도정보 없음\n",
      "중복: 바늘이야기 파주직영점 → 건너뜀\n",
      "지도정보 없음\n",
      "중복: 메리노 → 건너뜀\n",
      "지도정보 없음\n",
      "지도정보 없음\n",
      "중복: 메리노 → 건너뜀\n",
      "중복: 누뗀 → 건너뜀\n",
      "지도정보 없음\n",
      "중복: 누뗀 → 건너뜀\n",
      "중복: 카페토요 → 건너뜀\n"
     ]
    }
   ],
   "source": [
    "# 페이지 반복 \n",
    "cafe = []\n",
    "for i in range(1,12):\n",
    "    url = f\"https://section.blog.naver.com/Search/Post.naver?pageNo={i}&rangeType=ALL&orderBy=sim&keyword=%EB%9C%A8%EA%B0%9C%EC%B9%B4%ED%8E%98\"\n",
    "    driver.get(url)\n",
    "    time.sleep(2)\n",
    "    \n",
    "    blog_links = []\n",
    "\n",
    "    # 한페이지에 7개 블로그 글 \n",
    "    blog_cards = driver.find_elements(\n",
    "        By.CSS_SELECTOR, \"#content > section > div.area_list_search > div\"\n",
    "    )[:7]\n",
    "\n",
    "    # 블로그 주소, id, no 추출\n",
    "    for card in blog_cards:\n",
    "        try:\n",
    "            elem = card.find_element(By.CSS_SELECTOR, \"div > div.info_post > div.desc > a.desc_inner\")\n",
    "            blog_links.append(elem.get_attribute(\"href\"))\n",
    "        except:\n",
    "            continue\n",
    "    \n",
    "\n",
    "    for blog_url in blog_links:\n",
    "        try:\n",
    "            blogID = blog_url.split(\"/\")[-2]\n",
    "            logNo = blog_url.split(\"/\")[-1]\n",
    "            # 블로그 접속\n",
    "            driver.get(f\"https://blog.naver.com/PostView.naver?blogId={blogID}&logNo={logNo}\")\n",
    "            time.sleep(2)\n",
    "\n",
    "            try:\n",
    "                # 지도 정보가 있는지 확인\n",
    "                map_elem = driver.find_element(\n",
    "                    By.CSS_SELECTOR,\n",
    "                    \"div.se-module.se-module-map-text > a\"\n",
    "                )\n",
    "                map_data_raw = map_elem.get_attribute(\"data-linkdata\")\n",
    "                map_data = json.loads(map_data_raw)\n",
    "                \n",
    "                name_list = [c['카페 이름'] for c in cafe]\n",
    "                if map_data[\"name\"] in name_list:\n",
    "                    print(f\"중복: {map_data['name']} → 건너뜀\")\n",
    "                    continue\n",
    "\n",
    "\n",
    "                cafe.append({\n",
    "                    \"카페 이름\": map_data[\"name\"],\n",
    "                    \"카페 주소\": map_data[\"address\"],\n",
    "                    \"위도\": map_data[\"latitude\"],\n",
    "                    \"경도\": map_data[\"longitude\"],\n",
    "                })\n",
    "                \n",
    "            except:\n",
    "                print(\"지도정보 없음\")\n",
    "\n",
    "        except Exception as e:\n",
    "            print(\"오류 발생:\", e)\n",
    "            continue\n",
    "\n"
   ]
  },
  {
   "cell_type": "code",
   "execution_count": 5,
   "id": "4f82f6d4",
   "metadata": {},
   "outputs": [
    {
     "data": {
      "text/plain": [
       "21"
      ]
     },
     "execution_count": 5,
     "metadata": {},
     "output_type": "execute_result"
    }
   ],
   "source": [
    "len(cafe)"
   ]
  },
  {
   "cell_type": "code",
   "execution_count": 6,
   "id": "a1f07269",
   "metadata": {},
   "outputs": [
    {
     "data": {
      "text/plain": [
       "[{'카페 이름': '바늘이야기 연희점',\n",
       "  '카페 주소': '서울특별시 서대문구 연희로11가길 15',\n",
       "  '위도': '37.5674563',\n",
       "  '경도': '126.9291304'},\n",
       " {'카페 이름': '메리노',\n",
       "  '카페 주소': '서울특별시 성동구 서울숲길 24 1층',\n",
       "  '위도': '37.5478772',\n",
       "  '경도': '127.0400156'},\n",
       " {'카페 이름': '누뗀',\n",
       "  '카페 주소': '서울특별시 서초구 청계산로 119 지하1층~2층',\n",
       "  '위도': '37.4537511',\n",
       "  '경도': '127.05127'},\n",
       " {'카페 이름': '제주포슬',\n",
       "  '카페 주소': '제주특별자치도 서귀포시 대정읍 무영로228번길 17-7 제주포슬',\n",
       "  '위도': '33.2811244',\n",
       "  '경도': '126.2235554'},\n",
       " {'카페 이름': '바늘이야기 파주직영점',\n",
       "  '카페 주소': '경기도 파주시 탄현면 법흥로 100-1',\n",
       "  '위도': '37.7765751',\n",
       "  '경도': '126.706411'},\n",
       " {'카페 이름': '카페토요',\n",
       "  '카페 주소': '서울특별시 도봉구 시루봉로 149 102호',\n",
       "  '위도': '37.6642895',\n",
       "  '경도': '127.0282775'},\n",
       " {'카페 이름': '바늘카페',\n",
       "  '카페 주소': '서울특별시 서대문구 연희로11가길 15 2층',\n",
       "  '위도': '37.5674563',\n",
       "  '경도': '126.9291304'},\n",
       " {'카페 이름': '카페 슬로우플로우',\n",
       "  '카페 주소': '경기도 김포시 김포한강11로140번길 116 슬로우플로우 1층 카페',\n",
       "  '위도': '37.6475742',\n",
       "  '경도': '126.6819604'},\n",
       " {'카페 이름': '옐로우헤이트',\n",
       "  '카페 주소': '서울특별시 관악구 행운6길 22 1층',\n",
       "  '위도': '37.4806707',\n",
       "  '경도': '126.9609454'},\n",
       " {'카페 이름': '에이하 커피',\n",
       "  '카페 주소': '경기도 의왕시 계원대학로 25 1층 110호',\n",
       "  '위도': '37.3798625',\n",
       "  '경도': '126.9743904'},\n",
       " {'카페 이름': '솜솜뜨개',\n",
       "  '카페 주소': '서울특별시 마포구 잔다리로9길 4-2 단독주택',\n",
       "  '위도': '37.5576087',\n",
       "  '경도': '126.9131481'},\n",
       " {'카페 이름': '녹음집',\n",
       "  '카페 주소': '서울특별시 용산구 원효로 177-2 2층',\n",
       "  '위도': '37.5359612',\n",
       "  '경도': '126.9623685'},\n",
       " {'카페 이름': '모드커피',\n",
       "  '카페 주소': '울산광역시 남구 돋질로261번길 17 2층',\n",
       "  '위도': '35.5452328',\n",
       "  '경도': '129.3327527'},\n",
       " {'카페 이름': '파스쿠찌 대전신탄진DT점',\n",
       "  '카페 주소': '대전광역시 대덕구 신탄진로 504 파스쿠찌 대전신탄진DT',\n",
       "  '위도': '36.4238572',\n",
       "  '경도': '127.4199458'},\n",
       " {'카페 이름': '아이파크몰 용산점',\n",
       "  '카페 주소': '서울특별시 용산구 한강대로23길 55',\n",
       "  '위도': '37.5294246',\n",
       "  '경도': '126.9651668'},\n",
       " {'카페 이름': '투썸플레이스 대전둔산로데오점',\n",
       "  '카페 주소': '대전광역시 서구 둔지로 16 1층',\n",
       "  '위도': '36.3511443',\n",
       "  '경도': '127.3761685'},\n",
       " {'카페 이름': '꾸드뱅베이커스하우스',\n",
       "  '카페 주소': '대전광역시 서구 둔산남로9번길 71 1층',\n",
       "  '위도': '36.3507618',\n",
       "  '경도': '127.3798543'},\n",
       " {'카페 이름': '구삼구 작업실',\n",
       "  '카페 주소': '인천광역시 연수구 벚꽃로 142 1층 구삼구작업실',\n",
       "  '위도': '37.4159377',\n",
       "  '경도': '126.6810536'},\n",
       " {'카페 이름': '마일드폰드',\n",
       "  '카페 주소': '충청북도 제천시 의림대로48길 2-39 1층',\n",
       "  '위도': '37.1776369',\n",
       "  '경도': '128.212435'},\n",
       " {'카페 이름': '니틴',\n",
       "  '카페 주소': '부산광역시 부산진구 동성로39번길 19 2층',\n",
       "  '위도': '35.1539123',\n",
       "  '경도': '129.0673171'},\n",
       " {'카페 이름': '카페어텀',\n",
       "  '카페 주소': '경기도 하남시 미사강변남로 91 3층 314호',\n",
       "  '위도': '37.5607552',\n",
       "  '경도': '127.1919889'}]"
      ]
     },
     "execution_count": 6,
     "metadata": {},
     "output_type": "execute_result"
    }
   ],
   "source": [
    "cafe"
   ]
  },
  {
   "cell_type": "code",
   "execution_count": 32,
   "id": "38ede65f",
   "metadata": {},
   "outputs": [
    {
     "data": {
      "text/html": [
       "<div>\n",
       "<style scoped>\n",
       "    .dataframe tbody tr th:only-of-type {\n",
       "        vertical-align: middle;\n",
       "    }\n",
       "\n",
       "    .dataframe tbody tr th {\n",
       "        vertical-align: top;\n",
       "    }\n",
       "\n",
       "    .dataframe thead th {\n",
       "        text-align: right;\n",
       "    }\n",
       "</style>\n",
       "<table border=\"1\" class=\"dataframe\">\n",
       "  <thead>\n",
       "    <tr style=\"text-align: right;\">\n",
       "      <th></th>\n",
       "      <th>카페 이름</th>\n",
       "      <th>카페 주소</th>\n",
       "      <th>위도</th>\n",
       "      <th>경도</th>\n",
       "    </tr>\n",
       "  </thead>\n",
       "  <tbody>\n",
       "    <tr>\n",
       "      <th>0</th>\n",
       "      <td>바늘이야기 연희점</td>\n",
       "      <td>서울특별시 서대문구 연희로11가길 15</td>\n",
       "      <td>37.5674563</td>\n",
       "      <td>126.9291304</td>\n",
       "    </tr>\n",
       "    <tr>\n",
       "      <th>1</th>\n",
       "      <td>메리노</td>\n",
       "      <td>서울특별시 성동구 서울숲길 24 1층</td>\n",
       "      <td>37.5478772</td>\n",
       "      <td>127.0400156</td>\n",
       "    </tr>\n",
       "    <tr>\n",
       "      <th>2</th>\n",
       "      <td>누뗀</td>\n",
       "      <td>서울특별시 서초구 청계산로 119 지하1층~2층</td>\n",
       "      <td>37.4537511</td>\n",
       "      <td>127.05127</td>\n",
       "    </tr>\n",
       "    <tr>\n",
       "      <th>3</th>\n",
       "      <td>제주포슬</td>\n",
       "      <td>제주특별자치도 서귀포시 대정읍 무영로228번길 17-7 제주포슬</td>\n",
       "      <td>33.2811244</td>\n",
       "      <td>126.2235554</td>\n",
       "    </tr>\n",
       "    <tr>\n",
       "      <th>4</th>\n",
       "      <td>바늘이야기 파주직영점</td>\n",
       "      <td>경기도 파주시 탄현면 법흥로 100-1</td>\n",
       "      <td>37.7765751</td>\n",
       "      <td>126.706411</td>\n",
       "    </tr>\n",
       "  </tbody>\n",
       "</table>\n",
       "</div>"
      ],
      "text/plain": [
       "         카페 이름                                카페 주소          위도           경도\n",
       "0    바늘이야기 연희점                서울특별시 서대문구 연희로11가길 15  37.5674563  126.9291304\n",
       "1          메리노                 서울특별시 성동구 서울숲길 24 1층  37.5478772  127.0400156\n",
       "2           누뗀           서울특별시 서초구 청계산로 119 지하1층~2층  37.4537511    127.05127\n",
       "3         제주포슬  제주특별자치도 서귀포시 대정읍 무영로228번길 17-7 제주포슬  33.2811244  126.2235554\n",
       "4  바늘이야기 파주직영점                경기도 파주시 탄현면 법흥로 100-1  37.7765751   126.706411"
      ]
     },
     "execution_count": 32,
     "metadata": {},
     "output_type": "execute_result"
    }
   ],
   "source": [
    "import pandas as pd\n",
    "df_cafe = pd.DataFrame(cafe)\n",
    "df_cafe.head(5)"
   ]
  },
  {
   "cell_type": "code",
   "execution_count": null,
   "id": "45d00b9d",
   "metadata": {},
   "outputs": [],
   "source": []
  },
  {
   "cell_type": "code",
   "execution_count": null,
   "id": "007331ba",
   "metadata": {},
   "outputs": [],
   "source": [
    "# 블로그 내용 크롤링\n",
    "# 작성자, 작성일, 블로그 내용"
   ]
  },
  {
   "cell_type": "code",
   "execution_count": 4,
   "id": "142d9307",
   "metadata": {},
   "outputs": [],
   "source": [
    "# 블로그 내용 크롤링\n",
    "# url 연결\n",
    "driver.get(\"https://blog.naver.com/PostView.naver?blogId=ksysysy&logNo=223938309758\")"
   ]
  },
  {
   "cell_type": "code",
   "execution_count": 5,
   "id": "69574d55",
   "metadata": {},
   "outputs": [],
   "source": [
    "blog = driver.find_element(By.CSS_SELECTOR, \"#printPost1 > tbody > tr > td.bcc\").text\n"
   ]
  },
  {
   "cell_type": "code",
   "execution_count": 6,
   "id": "e2403f51",
   "metadata": {},
   "outputs": [
    {
     "data": {
      "text/plain": [
       "'제1의 취미 여행\\n[바늘이야기 연희점] 뜨개질 전문 매장, 뜨개 카페.\\n전통보리차 ・ 2025. 7. 18. 13:55\\nURL 복사 이웃추가\\n본문 기타 기능\\n위치바늘이야기 연희점\\n6/12.\\n뜨개(수집)인으로서 예전부터 꼭 가보고싶었던\\n바늘이야기 카페에 다녀왔다.\\n홍대 나들이 나간김에 연희점으로 다녀왔는데\\n파주점도 가보고싶긴하다.\\n바늘이야기 연희점.\\n4층 건물을 통째로 쓰고있다.\\n뜨개용품 샵과 스튜디오, 카페도 운영하고 있어서\\n뜨개인들에게는 그야말로 성지인데\\n아쉽게도 주차장이 없다.\\n심지어 이 주변에 주차장 찾기도 너무 어려웠다.\\n들어서자마자 한 면이 실로 꽉 채워진 인테리어.\\n뜨개인들에게는 그야말로 최고의 인테리어되겠다.\\n완성된 뜨개 제품도 판매하고 있다.\\n이 작품을 뜨기 위해 사용된 실과 도안, 소요량까지\\n태그 달려있어서 좋다.\\n물론. 저는 못뜨지만요. ㅋ\\n손으로 직접 실의 질감과 재질도 느껴보고\\n구매할 수 있다는게 가장 매력적이었다.\\n벽면에 가득한 다양한 실 구경이 가장 재미있었다.\\n뜨개초보라서 대체 무슨실을 사야할 지를 모르는게\\n가장 아쉬웠지만.\\n고급스러운 캐시미어실부터\\n조금더 쉽게 뜨개질에 입문할 수 있는\\n수세미실과 면실까지 종류와 컬러가 다양했다.\\n다양한 대바늘 스와치♡\\n나 이거 언제 다 가능하게 되는걸까.\\n다양한 바늘 종류들도 구매 가능하다.\\n코바늘에 빠져서 코바늘은 많이 들였는데..\\n이제 대바늘 차례인가요.\\n종류가 무궁무진해서 힘들구나.\\n눈돌아가는 다양한 부자재들.\\n우리도 여기까지 갔으니 무언가 하나 사서\\n2층 카페에 올라가 바늘을 잡아보기로 했다.\\n간단한 키링 만들기 키트부터\\n작은 소품과 가방까지 만들 수 있는 diy키트도 있다.\\n코바늘과 대바늘에 입문할 수 있는 세트도 판매.\\n실과 바늘, 도안을 따로따로 구매하는 것보다\\n가격대가 있는 편이었지만\\n대바늘을 시작해볼까 하는 마음에 구매했다.\\n대바늘 키트를 구매헤서 2층 카페로 올라갔다.\\n자리가 많은 편인데도 사람이 더 많아서 만석이다.\\n카페 내의 모든 사람들이 뜨개질에 집중하고있어서\\n우리도 자연스럽게 뜨개질에 몰두 할 수 있었다.\\n다양한 연령대와 성별의 사람들이 있어서\\n그야말로 단체 카뜨. 너무 좋다.\\n메뉴.\\n간단한 브런치와 디저트 메뉴도 있었다.\\n야외에도 테이블이 있었는데\\n햇빛과 공기가 너무 뜨거워서 앉을 수는 없었다.\\n봄이나 가을에 앉아서 뜨개하면\\n반나절 이상도 뜨개할 수 있을 듯.\\n아메리카노. (5,500원 *2)\\n둘이서 파스타를 3개나 사먹고 갔더니\\n너무 배불러서 디저트는 못시켰다.\\n아메리카노도 진하고 맛있었는데\\n배불러서 간신히 먹었네. ㅎㅎ\\n대바늘 세트로 대바늘 독학 시작.\\n겉뜨기 안뜨기 메리야스뜨기까지\\n한 번 (간신히) 떠보았다.\\n사실 공방에 한 번 나갔었는데\\n대바늘 겉뜨기만 몇 십줄 뜨고 진도를 못뺐는데\\n이 작은책 한 권으로 약간의 진도가 나갔다.\\n심지어 대바늘 도안보는 법도 우리가 터득했다는.\\n그런데\\n대바늘 도안은 대체 왜그렇게 어려운거예여?\\n키링을 완성.했다고 해두고싶다.\\n조금 복잡하고 주차가 어렵긴 했지만\\n뜨개용품도 구매할 수 있고\\n카페에서 바로 뜨개질해 볼 수도 있고.\\n심지어 친구도 사귈 수 있는 색다른 곳이었다.\\n그런데 기이한 건,\\n이 이후로 전혀 바늘을 안잡고 있다는 거. 왜지.\\n50m\\n© NAVER Corp.\\n바늘이야기 연희점\\n서울특별시 서대문구 연희로11가길 15\\n태그\\n#바늘이야기\\n#바늘이야기연희점\\n#바늘이야기연희점주차\\n#바늘이야기카페\\n#카페바늘이야기\\n#홍대바늘이야기\\n#홍대데이트\\n#홍대뜨개질\\n#홍대뜨개질카페\\n#홍대뜨개질소품샵\\n#바늘이야기쇼핑\\n공감 6\\n이 글에 공감한 블로거 열고 닫기\\n댓글 1\\n이 글에 댓글 단 블로거 열고 닫기\\n블로그 보내기\\n카페 보내기\\nKeep 보내기\\n메모 보내기\\n기타 보내기 펼치기\\n\\n\\n\\n\\n\\n인쇄'"
      ]
     },
     "execution_count": 6,
     "metadata": {},
     "output_type": "execute_result"
    }
   ],
   "source": [
    "blog"
   ]
  },
  {
   "cell_type": "code",
   "execution_count": null,
   "id": "487ff310",
   "metadata": {},
   "outputs": [],
   "source": [
    "# 작성일 가져오기 \n"
   ]
  },
  {
   "cell_type": "markdown",
   "id": "3c1e4e4d",
   "metadata": {},
   "source": [
    "## 최최종코드 "
   ]
  },
  {
   "cell_type": "code",
   "execution_count": 34,
   "id": "25085254",
   "metadata": {},
   "outputs": [],
   "source": [
    "driver = webdriver.Chrome(service=Service(ChromeDriverManager().install()))\n",
    "driver.get(\"https://section.blog.naver.com/\")\n",
    "\n",
    "driver.find_element(\n",
    "    By.CSS_SELECTOR,\n",
    "    \"#header > div.header_common > div > div.area_search > form > fieldset > div > input\",\n",
    ").send_keys(\"뜨개카페\")\n",
    "driver.find_element(\n",
    "    By.CSS_SELECTOR,\n",
    "    \"#header > div.header_common > div > div.area_search > form > fieldset > div > input\",\n",
    ").send_keys(Keys.ENTER)"
   ]
  },
  {
   "cell_type": "code",
   "execution_count": null,
   "id": "d58439ee",
   "metadata": {},
   "outputs": [],
   "source": [
    "# 페이지 반복 \n",
    "cafe = []\n",
    "for i in range(1,12):\n",
    "    url = f\"https://section.blog.naver.com/Search/Post.naver?pageNo={i}&rangeType=ALL&orderBy=recentdate&keyword=%EB%9C%A8%EA%B0%9C%EC%B9%B4%ED%8E%98\"\n",
    "    driver.get(url)\n",
    "    time.sleep(2)\n",
    "    \n",
    "    blog_links = []\n",
    "\n",
    "    # 한페이지에 7개 블로그 글 \n",
    "    blog_cards = driver.find_elements(\n",
    "        By.CSS_SELECTOR, \"#content > section > div.area_list_search > div\"\n",
    "    )[:7]\n",
    "\n",
    "    # 블로그 주소, id, no 추출\n",
    "    for card in blog_cards:\n",
    "        try:\n",
    "            elem = card.find_element(By.CSS_SELECTOR, \"div > div.info_post > div.desc > a.desc_inner\")\n",
    "            blog_links.append(elem.get_attribute(\"href\"))\n",
    "        except:\n",
    "            continue\n",
    "    \n",
    "\n",
    "    for blog_url in blog_links:\n",
    "        try:\n",
    "            blogID = blog_url.split(\"/\")[-2]\n",
    "            logNo = blog_url.split(\"/\")[-1]\n",
    "            # 블로그 접속\n",
    "            driver.get(f\"https://blog.naver.com/PostView.naver?blogId={blogID}&logNo={logNo}\")\n",
    "            time.sleep(2)\n",
    "\n",
    "            try:\n",
    "                # 지도 정보가 있는지 확인\n",
    "                map_elem = driver.find_element(\n",
    "                    By.CSS_SELECTOR,\n",
    "                    \"div.se-module.se-module-map-text > a\"\n",
    "                )\n",
    "                map_data_raw = map_elem.get_attribute(\"data-linkdata\")\n",
    "                map_data = json.loads(map_data_raw)\n",
    "                # 블로그 내용 크롤링\n",
    "                blog = driver.find_element(By.CSS_SELECTOR, \"#printPost1 > tbody > tr > td.bcc\").text\n",
    "\n",
    "                cafe.append({\n",
    "                    \"카페 이름\": map_data[\"name\"],\n",
    "                    \"카페 주소\": map_data[\"address\"],\n",
    "                    \"위도\": map_data[\"latitude\"],\n",
    "                    \"경도\": map_data[\"longitude\"],\n",
    "                    \"블로그내용\" : blog\n",
    "                })\n",
    "                \n",
    "            except:\n",
    "                print(\"지도정보 없음\")\n",
    "\n",
    "        except Exception as e:\n",
    "            print(\"오류 발생:\", e)\n",
    "            continue\n",
    "\n"
   ]
  },
  {
   "cell_type": "code",
   "execution_count": null,
   "id": "3e578e81",
   "metadata": {},
   "outputs": [],
   "source": [
    "df_cafe = pd.DataFrame(cafe)"
   ]
  },
  {
   "cell_type": "code",
   "execution_count": null,
   "id": "fc0a89e8",
   "metadata": {},
   "outputs": [],
   "source": [
    "df_cafe.head(5)"
   ]
  },
  {
   "cell_type": "code",
   "execution_count": 56,
   "id": "9089b3df",
   "metadata": {},
   "outputs": [
    {
     "data": {
      "text/plain": [
       "'먹고싶다\\n[파주/탄현면] 뜨개러라면 눈이 휘둥그래질, 뜨개카페 바늘이야기\\n뜨다만인기녀 ・ 2024. 11. 9. 21:28\\nURL 복사 이웃추가\\n본문 기타 기능\\n위치바늘이야기 파주직영점\\n#파주뜨개카페 #파주카페 #바늘이야기 #바늘이야기파주점 #내돈내산 #뜨개질 #뜨개실\\n나의 오랜 취미는 가죽 공예였는데 공간의 제약이 너무나도 커서 다른 취미를 찾아봐야 겠다는 생각을 했다.\\n아무래도 손으로 사부작 거리는 것을 좋아하는 나이기에 뜨개질을 배워보면 어떨까 싶었고, 잠깐 배운적인 있는 대바늘 말고 코바늘로 도전 시작!\\n새복이 유치원 친구 엄마들 대부분이 뜨개질 능력자셔서 덕분에 무료로(!) 배우고 있다.\\n가장 처음으로 실버백을 도전해봤는데 와 이실 쉽지 않음....\\n바늘 코 넣을 곳이 눈에 잘 안보여서 초보가 고르면 안되는 실이었음을....\\n어쨌든 어찌저치 실 하나를 다 쓰고 다음은 뭘 해 볼까 고민하다가 급 바늘이야기 카페로 향했다 :)\\n과거에 실공장1998이었고 지금은 바늘이야기인 공간.\\n예전에도 좋았지만 지금이 더 좋다고 느낄 정도로 공간 구성이 잘되어있었다.\\n일단 실도 많고, 샘플도 많아서 구경거리가 많았다.\\n예전에는 카페가 메인이라고 느껴졌다면 지금은 뜨개가 메인인 느낌?\\n1층은 뜨개용품을 팔고 2,3층은 카페로 운영되고 있는데, 비오는 평일 오전에 가서일까 매장이 한적해서 좋았다.\\n(벽면에 실을 그라데이션으로 배치한 인테리어도 예뻤음)\\n뜨개 초보니까 일단 샘플부터 살펴보았다.\\n아직 무것을 떠볼까 결정하지 못하고 방문했기 때문이다.\\n참고로 가방을 참 좋아하지만 소품은 더더더욱 좋아하는 편이다.\\n그래서 아기자기한 소품류에 눈을 뗄 수가 없었다.\\n옷 샘플도 참 많던데 저에겐 그림의 떡이구요^^\\n실이 정말정말 많았다.\\n온라인으로 사면 실의 촉감이나 색감을 직접 보지 못해서 아쉬운데 이렇게 쇼룸같은 카페가 있으니 얼마나 좋은지!\\n하지만....\\n내가 사고 싶은 실은 이 곳에 재고가 없었다.\\n방문 당시만 해도 방문자들에서 10% 할인해서 실을 팔았는데 실이 없어서 못샀음.\\n그래서 그냥 다른 실들을 구경해보기로!\\n가방 샘플도 진짜 많은데 바늘이야기의 좋은 점 중 하나가 가방 뜨는 법을 유툽에서 상세하게 설명해주신다.\\n정말 나같은 왕초보도 보고 따라 뜨는데 어려움이 없을 정도!\\n(다만 완성품의 퀄리티는 당연히 차이가 난다.)\\n이건 대체 뭘까?\\n모티브 같은 것들이 걸려있었는데 뭔지 모르겠다.\\n아시는 분 계시면 알려주시겠어요...?\\n책도 있어서 도안에 능숙한 사람은 책만봐도 원하는 걸 만들어 낼 수 있겠다 싶었다.\\n반대로 짜여진 것만 보아도 도안을 만들어 낼 수 있거나?\\n(물론 저는 둘 다 못합니다....)\\n구경을 마치고 카페에서 차 한 잔 하기 위에 위층으로 올라갔다.\\n차와 베이커리 그리고 화분마저 뜨개로 되어있는게 정말 귀엽다 :)\\n메뉴는 이러했고 나는 추천 메뉴인 초코 라떼를 선택해 보았다.\\n창 밖으론 비가 내리고 사람은 없고 힐링이었다.\\n그런데 함께한 친구가 음료를 가지고 오다가 단차를 보지 못하고 발을 헛디디는 바람에 컵이 와장창 깨지면서 평화가 끝났다.\\n명백히 우리 실수인데도 음료를 다시 만들어주신 고마운 사장님\\n돈을 지불하겠다고 했는데 계속 거절하셔서 정말 죄송스러웠다.\\n다시 받아든 음료를 들고 조심조심 한 층 더 올라가보기!\\n이 공간은 예전 실공간일때와 비슷한 듯 달랐다.\\n여기서 하루종일 뜨개하면 힐링 그 자체일 듯 :)\\n초코 음료는 맛있었는데 매우 달달하니 주의!!!!\\n(너무 단 걸 싫어하신다면 우유를 조금 타먹어도 좋을 듯합니다.)\\n우리 집 가까이에 있다면 내 통장을 텅장으로 만듬직한 곳이다.\\n당연히 재방문의사 있구요~\\n복직하면서 뜨개에 손을 못대고 있는데 적응하면 얼른 다시 시작해야지 :)\\n50m\\n© NAVER Corp.\\n바늘이야기 파주직영점\\n경기도 파주시 탄현면 법흥로 100-1\\n태그\\n#파주뜨개카페\\n#파주카페\\n#바늘이야기\\n#바늘이야기파주점\\n#내돈내산\\n#뜨개질\\n#뜨개실\\n공감 14\\n이 글에 공감한 블로거 열고 닫기\\n댓글 2\\n이 글에 댓글 단 블로거 열고 닫기\\nKeep 보내기\\n메모 보내기\\n기타 보내기 펼치기\\n\\n\\n\\n\\n\\n인쇄'"
      ]
     },
     "execution_count": 56,
     "metadata": {},
     "output_type": "execute_result"
    }
   ],
   "source": [
    "df_cafe['블로그내용'][10]"
   ]
  },
  {
   "cell_type": "code",
   "execution_count": null,
   "id": "1760d653",
   "metadata": {},
   "outputs": [
    {
     "data": {
      "text/plain": [
       "['전통보리차 ', ' 2025. 7. 18. 13:55']"
      ]
     },
     "execution_count": 53,
     "metadata": {},
     "output_type": "execute_result"
    }
   ],
   "source": [
    "df_cafe['블로그내용'][0].split('\\n')[2].split('・')"
   ]
  },
  {
   "cell_type": "code",
   "execution_count": null,
   "id": "5f9173f8",
   "metadata": {},
   "outputs": [],
   "source": [
    "작성자 / 작성일 "
   ]
  },
  {
   "cell_type": "code",
   "execution_count": null,
   "id": "6b55c604",
   "metadata": {},
   "outputs": [],
   "source": []
  }
 ],
 "metadata": {
  "kernelspec": {
   "display_name": "mini_cafe",
   "language": "python",
   "name": "python3"
  },
  "language_info": {
   "codemirror_mode": {
    "name": "ipython",
    "version": 3
   },
   "file_extension": ".py",
   "mimetype": "text/x-python",
   "name": "python",
   "nbconvert_exporter": "python",
   "pygments_lexer": "ipython3",
   "version": "3.11.13"
  }
 },
 "nbformat": 4,
 "nbformat_minor": 5
}
